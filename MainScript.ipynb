{
 "cells": [
  {
   "cell_type": "code",
   "execution_count": 12,
   "metadata": {},
   "outputs": [],
   "source": [
    "import pandas as pd\n",
    "from sklearn.preprocessing import LabelEncoder\n",
    "from sklearn.preprocessing import MinMaxScaler"
   ]
  },
  {
   "cell_type": "code",
   "execution_count": 3,
   "metadata": {},
   "outputs": [],
   "source": [
    "# Load a dataset from a CSV file\n",
    "df = pd.read_csv(r\"C:\\Users\\Vaishnavi Kadam\\Desktop\\Python\\ML_KNN\\Data.csv\")"
   ]
  },
  {
   "cell_type": "code",
   "execution_count": 4,
   "metadata": {},
   "outputs": [
    {
     "name": "stdout",
     "output_type": "stream",
     "text": [
      "   ID       Name   Age  Gender   Salary  Target\n",
      "0   1      Sarah  25.0  Female  50000.0       0\n",
      "1   2     Ophrah  30.0    Male  60000.0       1\n",
      "2   3     Torben  22.0    Male  70000.0       0\n",
      "3   4  Masharahu  35.0    Male  80000.0       1\n",
      "4   5       Kaya   NaN  Female  55000.0       0\n"
     ]
    }
   ],
   "source": [
    "# Display the first few rows of the dataset\n",
    "print(df.head())"
   ]
  },
  {
   "cell_type": "code",
   "execution_count": 5,
   "metadata": {},
   "outputs": [
    {
     "name": "stdout",
     "output_type": "stream",
     "text": [
      "ID        0\n",
      "Name      0\n",
      "Age       1\n",
      "Gender    0\n",
      "Salary    1\n",
      "Target    0\n",
      "dtype: int64\n"
     ]
    }
   ],
   "source": [
    "# Check for missing values in the dataset\n",
    "missing_values = df.isna().sum()\n",
    "print(missing_values)"
   ]
  },
  {
   "cell_type": "code",
   "execution_count": 6,
   "metadata": {},
   "outputs": [
    {
     "name": "stdout",
     "output_type": "stream",
     "text": [
      "   ID       Name   Age  Gender   Salary  Target\n",
      "0   1      Sarah  25.0  Female  50000.0       0\n",
      "1   2     Ophrah  30.0    Male  60000.0       1\n",
      "2   3     Torben  22.0    Male  70000.0       0\n",
      "3   4  Masharahu  35.0    Male  80000.0       1\n"
     ]
    }
   ],
   "source": [
    "# Drop rows with missing values\n",
    "df_cleaned = df.dropna()\n",
    "print(df_cleaned)"
   ]
  },
  {
   "cell_type": "code",
   "execution_count": 7,
   "metadata": {},
   "outputs": [
    {
     "name": "stdout",
     "output_type": "stream",
     "text": [
      "   ID       Name   Age  Gender   Salary  Target\n",
      "0   1      Sarah  25.0  Female  50000.0       0\n",
      "1   2     Ophrah  30.0    Male  60000.0       1\n",
      "2   3     Torben  22.0    Male  70000.0       0\n",
      "3   4  Masharahu  35.0    Male  80000.0       1\n",
      "4   5       Kaya  28.2  Female  55000.0       0\n",
      "5   6    Abandon  29.0    Male      NaN       1\n"
     ]
    }
   ],
   "source": [
    "# Fill missing values in the 'Age' column with the mean of the column\n",
    "df['Age'].fillna(df['Age'].mean(), inplace=True)\n",
    "print(df)"
   ]
  },
  {
   "cell_type": "code",
   "execution_count": 10,
   "metadata": {},
   "outputs": [
    {
     "name": "stdout",
     "output_type": "stream",
     "text": [
      "   ID       Name   Age  Gender   Salary  Target\n",
      "0   1      Sarah  25.0       0  50000.0       0\n",
      "1   2     Ophrah  30.0       1  60000.0       1\n",
      "2   3     Torben  22.0       1  70000.0       0\n",
      "3   4  Masharahu  35.0       1  80000.0       1\n",
      "4   5       Kaya  28.2       0  55000.0       0\n",
      "5   6    Abandon  29.0       1      NaN       1\n"
     ]
    }
   ],
   "source": [
    "# Initialize the LabelEncoder\n",
    "le = LabelEncoder()\n",
    "# Apply label encoding to the 'Gender' column\n",
    "df['Gender'] = le.fit_transform(df['Gender'])\n",
    "# Output the encoded dataset\n",
    "print(df)"
   ]
  },
  {
   "cell_type": "code",
   "execution_count": 11,
   "metadata": {},
   "outputs": [
    {
     "name": "stdout",
     "output_type": "stream",
     "text": [
      "   ID       Name   Age   Salary  Target  Gender_0  Gender_1\n",
      "0   1      Sarah  25.0  50000.0       0         1         0\n",
      "1   2     Ophrah  30.0  60000.0       1         0         1\n",
      "2   3     Torben  22.0  70000.0       0         0         1\n",
      "3   4  Masharahu  35.0  80000.0       1         0         1\n",
      "4   5       Kaya  28.2  55000.0       0         1         0\n",
      "5   6    Abandon  29.0      NaN       1         0         1\n"
     ]
    }
   ],
   "source": [
    "# One hot encoding is used to transform categorical data into a numerical format that models can understand by creating binary columns\n",
    "# Apply one-hot encoding to the 'Gender' column\n",
    "df_encoded = pd.get_dummies(df, columns=['Gender'])\n",
    "# Output the one-hot encoded dataset\n",
    "print(df_encoded)"
   ]
  },
  {
   "cell_type": "code",
   "execution_count": 14,
   "metadata": {},
   "outputs": [
    {
     "name": "stdout",
     "output_type": "stream",
     "text": [
      "   ID       Name       Age  Gender    Salary  Target\n",
      "0   1      Sarah  0.230769       0  0.000000       0\n",
      "1   2     Ophrah  0.615385       1  0.333333       1\n",
      "2   3     Torben  0.000000       1  0.666667       0\n",
      "3   4  Masharahu  1.000000       1  1.000000       1\n",
      "4   5       Kaya  0.476923       0  0.166667       0\n",
      "5   6    Abandon  0.538462       1       NaN       1\n"
     ]
    }
   ],
   "source": [
    "#Min - Max scalr is used to approximate upper and lower bounds of the dataset \n",
    "# Initialize the MinMaxScaler\n",
    "scaler = MinMaxScaler()\n",
    "# Apply Min-Max scaling to the 'Age' and 'Salary' columns\n",
    "df[['Age', 'Salary']] = scaler.fit_transform(df[['Age', 'Salary']])\n",
    "# Output the scaled dataset\n",
    "print(df)"
   ]
  },
  {
   "cell_type": "code",
   "execution_count": null,
   "metadata": {},
   "outputs": [],
   "source": []
  }
 ],
 "metadata": {
  "kernelspec": {
   "display_name": "Python 3",
   "language": "python",
   "name": "python3"
  },
  "language_info": {
   "codemirror_mode": {
    "name": "ipython",
    "version": 3
   },
   "file_extension": ".py",
   "mimetype": "text/x-python",
   "name": "python",
   "nbconvert_exporter": "python",
   "pygments_lexer": "ipython3",
   "version": "3.7.6"
  }
 },
 "nbformat": 4,
 "nbformat_minor": 4
}
