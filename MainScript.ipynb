{
 "cells": [
  {
   "cell_type": "code",
   "execution_count": 24,
   "metadata": {},
   "outputs": [],
   "source": [
    "import pandas as pd\n",
    "import numpy as np\n",
    "from sklearn.preprocessing import LabelEncoder\n",
    "from sklearn.preprocessing import MinMaxScaler\n",
    "from sklearn.preprocessing import StandardScaler\n",
    "from sklearn.model_selection import train_test_split\n",
    "from scipy import stats\n",
    "from sklearn.impute import KNNImputer"
   ]
  },
  {
   "cell_type": "code",
   "execution_count": 11,
   "metadata": {},
   "outputs": [],
   "source": [
    "# Load a dataset from a CSV file\n",
    "df = pd.read_csv(r\"C:\\Users\\Vaishnavi Kadam\\Desktop\\Python\\ML_KNN\\Data.csv\")"
   ]
  },
  {
   "cell_type": "code",
   "execution_count": 12,
   "metadata": {},
   "outputs": [
    {
     "name": "stdout",
     "output_type": "stream",
     "text": [
      "   ID       Name   Age  Gender   Salary  Target\n",
      "0   1      Sarah  25.0  Female  50000.0       0\n",
      "1   2     Ophrah  30.0    Male  60000.0       1\n",
      "2   3     Torben  22.0    Male  70000.0       0\n",
      "3   4  Masharahu  35.0    Male  80000.0       1\n",
      "4   5       Kaya   NaN  Female  55000.0       0\n"
     ]
    }
   ],
   "source": [
    "# Display the first few rows of the dataset\n",
    "print(df.head())"
   ]
  },
  {
   "cell_type": "code",
   "execution_count": 13,
   "metadata": {},
   "outputs": [
    {
     "name": "stdout",
     "output_type": "stream",
     "text": [
      "ID        0\n",
      "Name      0\n",
      "Age       1\n",
      "Gender    0\n",
      "Salary    1\n",
      "Target    0\n",
      "dtype: int64\n"
     ]
    }
   ],
   "source": [
    "# Check for missing values in the dataset\n",
    "missing_values = df.isna().sum()\n",
    "print(missing_values)"
   ]
  },
  {
   "cell_type": "code",
   "execution_count": 14,
   "metadata": {},
   "outputs": [
    {
     "name": "stdout",
     "output_type": "stream",
     "text": [
      "   ID       Name   Age  Gender   Salary  Target\n",
      "0   1      Sarah  25.0  Female  50000.0       0\n",
      "1   2     Ophrah  30.0    Male  60000.0       1\n",
      "2   3     Torben  22.0    Male  70000.0       0\n",
      "3   4  Masharahu  35.0    Male  80000.0       1\n"
     ]
    }
   ],
   "source": [
    "# Drop rows with missing values\n",
    "df_cleaned = df.dropna()\n",
    "print(df_cleaned)"
   ]
  },
  {
   "cell_type": "code",
   "execution_count": 15,
   "metadata": {},
   "outputs": [
    {
     "name": "stdout",
     "output_type": "stream",
     "text": [
      "   ID       Name   Age  Gender   Salary  Target\n",
      "0   1      Sarah  25.0  Female  50000.0       0\n",
      "1   2     Ophrah  30.0    Male  60000.0       1\n",
      "2   3     Torben  22.0    Male  70000.0       0\n",
      "3   4  Masharahu  35.0    Male  80000.0       1\n",
      "4   5       Kaya  28.2  Female  55000.0       0\n",
      "5   6    Abandon  29.0    Male      NaN       1\n"
     ]
    }
   ],
   "source": [
    "# Fill missing values in the 'Age' column with the mean of the column\n",
    "df['Age'].fillna(df['Age'].mean(), inplace=True)\n",
    "print(df)"
   ]
  },
  {
   "cell_type": "code",
   "execution_count": 16,
   "metadata": {},
   "outputs": [
    {
     "name": "stdout",
     "output_type": "stream",
     "text": [
      "   ID       Name   Age  Gender   Salary  Target\n",
      "0   1      Sarah  25.0       0  50000.0       0\n",
      "1   2     Ophrah  30.0       1  60000.0       1\n",
      "2   3     Torben  22.0       1  70000.0       0\n",
      "3   4  Masharahu  35.0       1  80000.0       1\n",
      "4   5       Kaya  28.2       0  55000.0       0\n",
      "5   6    Abandon  29.0       1      NaN       1\n"
     ]
    }
   ],
   "source": [
    "# Initialize the LabelEncoder\n",
    "le = LabelEncoder()\n",
    "\n",
    "# Apply label encoding to the 'Gender' column\n",
    "df['Gender'] = le.fit_transform(df['Gender'])\n",
    "\n",
    "# Output the encoded dataset\n",
    "print(df)"
   ]
  },
  {
   "cell_type": "code",
   "execution_count": 17,
   "metadata": {},
   "outputs": [
    {
     "name": "stdout",
     "output_type": "stream",
     "text": [
      "   ID       Name   Age   Salary  Target  Gender_0  Gender_1\n",
      "0   1      Sarah  25.0  50000.0       0         1         0\n",
      "1   2     Ophrah  30.0  60000.0       1         0         1\n",
      "2   3     Torben  22.0  70000.0       0         0         1\n",
      "3   4  Masharahu  35.0  80000.0       1         0         1\n",
      "4   5       Kaya  28.2  55000.0       0         1         0\n",
      "5   6    Abandon  29.0      NaN       1         0         1\n"
     ]
    }
   ],
   "source": [
    "# One hot encoding is used to transform categorical data into a numerical format that models can understand by creating binary columns\n",
    "# Apply one-hot encoding to the 'Gender' column\n",
    "df_encoded = pd.get_dummies(df, columns=['Gender'])\n",
    "\n",
    "# Output the one-hot encoded dataset\n",
    "print(df_encoded)"
   ]
  },
  {
   "cell_type": "code",
   "execution_count": 18,
   "metadata": {},
   "outputs": [
    {
     "name": "stdout",
     "output_type": "stream",
     "text": [
      "   ID       Name       Age  Gender    Salary  Target\n",
      "0   1      Sarah  0.230769       0  0.000000       0\n",
      "1   2     Ophrah  0.615385       1  0.333333       1\n",
      "2   3     Torben  0.000000       1  0.666667       0\n",
      "3   4  Masharahu  1.000000       1  1.000000       1\n",
      "4   5       Kaya  0.476923       0  0.166667       0\n",
      "5   6    Abandon  0.538462       1       NaN       1\n"
     ]
    }
   ],
   "source": [
    "#Min - Max scalr is used to approximate upper and lower bounds of the dataset \n",
    "# Initialize the MinMaxScaler\n",
    "scaler = MinMaxScaler()\n",
    "\n",
    "# Apply Min-Max scaling to the 'Age' and 'Salary' columns\n",
    "df[['Age', 'Salary']] = scaler.fit_transform(df[['Age', 'Salary']])\n",
    "\n",
    "# Output the scaled dataset\n",
    "print(df)"
   ]
  },
  {
   "cell_type": "code",
   "execution_count": 19,
   "metadata": {},
   "outputs": [
    {
     "name": "stdout",
     "output_type": "stream",
     "text": [
      "   ID       Name           Age  Gender    Salary  Target\n",
      "0   1      Sarah -7.885825e-01       0 -1.207020       0\n",
      "1   2     Ophrah  4.435777e-01       1 -0.278543       1\n",
      "2   3     Torben -1.527879e+00       1  0.649934       0\n",
      "3   4  Masharahu  1.675738e+00       1  1.578410       1\n",
      "4   5       Kaya  5.335093e-16       0 -0.742781       0\n",
      "5   6    Abandon  1.971456e-01       1       NaN       1\n"
     ]
    }
   ],
   "source": [
    "#Z-score scaling, or standardization, transforms data to have a mean of 0 and a standard deviation of 1, making features comparable and preventing those with larger scales from dominating the learning process\n",
    "# Initialize the StandardScaler\n",
    "scaler = StandardScaler()\n",
    "\n",
    "# Apply Z-score scaling to the 'Age' and 'Salary' columns\n",
    "df[['Age', 'Salary']] = scaler.fit_transform(df[['Age', 'Salary']])\n",
    "\n",
    "# Output the standardized dataset\n",
    "print(df)"
   ]
  },
  {
   "cell_type": "code",
   "execution_count": 20,
   "metadata": {},
   "outputs": [
    {
     "name": "stdout",
     "output_type": "stream",
     "text": [
      "Training set size: 4\n",
      "Testing set size: 2\n"
     ]
    }
   ],
   "source": [
    "# Split the dataset into features and target\n",
    "X = df.drop('Target', axis=1)\n",
    "y = df['Target']\n",
    "\n",
    "# Split the dataset into training and testing sets (80-20 split)\n",
    "X_train, X_test, y_train, y_test = train_test_split(X, y, test_size=0.2, random_state=42)\n",
    "\n",
    "# Output the size of the training and testing sets\n",
    "print(f\"Training set size: {len(X_train)}\")\n",
    "print(f\"Testing set size: {len(X_test)}\")"
   ]
  },
  {
   "cell_type": "code",
   "execution_count": 22,
   "metadata": {},
   "outputs": [
    {
     "name": "stdout",
     "output_type": "stream",
     "text": [
      "   ID       Name           Age  Gender    Salary  Target\n",
      "0   1      Sarah -7.885825e-01       0 -1.207020       0\n",
      "1   2     Ophrah  4.435777e-01       1 -0.278543       1\n",
      "2   3     Torben -1.527879e+00       1  0.649934       0\n",
      "3   4  Masharahu  1.675738e+00       1  1.578410       1\n",
      "4   5       Kaya  5.335093e-16       0 -0.742781       0\n",
      "5   6    Abandon  1.971456e-01       1       NaN       1\n"
     ]
    }
   ],
   "source": [
    "#Removing outliers from the Dataset using Z-Score method in Pandas\n",
    "#Removing outliers in machine learning is crucial because they can significantly skew results, leading to inaccurate predictions and poor model performance, especially for algorithms sensitive to extreme values. \n",
    "\n",
    "z_scores = np.abs(stats.zscore(df['Age']))\n",
    "df_cleaned = df[z_scores < 3] \n",
    "\n",
    "print(df_cleaned)"
   ]
  },
  {
   "cell_type": "code",
   "execution_count": 25,
   "metadata": {},
   "outputs": [
    {
     "name": "stdout",
     "output_type": "stream",
     "text": [
      "   ID       Name  Gender  Target           Age    Salary\n",
      "0   1      Sarah       0       0 -7.885825e-01 -1.207020\n",
      "1   2     Ophrah       1       1  4.435777e-01 -0.278543\n",
      "2   3     Torben       1       0 -1.527879e+00  0.649934\n",
      "3   4  Masharahu       1       1  1.675738e+00  1.578410\n",
      "4   5       Kaya       0       0  5.335093e-16 -0.742781\n",
      "5   6    Abandon       1       1  1.971456e-01 -0.742781\n"
     ]
    }
   ],
   "source": [
    "#Imputing missing values using KNN imputation in Pandas\n",
    "#KNN imputation is a data preprocessing technique that fills missing values by using the values of the k nearest neighbors, leveraging the similarity between data points to estimate missing values. \n",
    "\n",
    "# Separate the numeric columns (Age and Salary) from non-numeric ones (Name, Gender)\n",
    "numeric_cols = ['Age', 'Salary']\n",
    "non_numeric_cols = ['ID', 'Name', 'Gender', 'Target']\n",
    "\n",
    "# Apply KNN imputation only to the numeric columns\n",
    "imputer = KNNImputer(n_neighbors=3)\n",
    "df_numeric_imputed = pd.DataFrame(imputer.fit_transform(df[numeric_cols]), columns=numeric_cols)\n",
    "\n",
    "# Combine the non-numeric columns with the imputed numeric data\n",
    "df_imputed = pd.concat([df[non_numeric_cols].reset_index(drop=True), df_numeric_imputed], axis=1)\n",
    "\n",
    "# Output the dataset with imputed values\n",
    "print(df_imputed)"
   ]
  },
  {
   "cell_type": "code",
   "execution_count": null,
   "metadata": {},
   "outputs": [],
   "source": []
  }
 ],
 "metadata": {
  "kernelspec": {
   "display_name": "Python 3",
   "language": "python",
   "name": "python3"
  },
  "language_info": {
   "codemirror_mode": {
    "name": "ipython",
    "version": 3
   },
   "file_extension": ".py",
   "mimetype": "text/x-python",
   "name": "python",
   "nbconvert_exporter": "python",
   "pygments_lexer": "ipython3",
   "version": "3.7.6"
  }
 },
 "nbformat": 4,
 "nbformat_minor": 4
}
