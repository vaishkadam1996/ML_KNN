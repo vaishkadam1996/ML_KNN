{
 "cells": [
  {
   "cell_type": "code",
   "execution_count": 11,
   "metadata": {},
   "outputs": [],
   "source": [
    "import pandas as pd"
   ]
  },
  {
   "cell_type": "code",
   "execution_count": 12,
   "metadata": {},
   "outputs": [],
   "source": [
    "# Load a dataset from a CSV file\n",
    "df = pd.read_csv(r\"C:\\Users\\Vaishnavi Kadam\\Desktop\\Python\\ML_KNN\\Data.csv\")"
   ]
  },
  {
   "cell_type": "code",
   "execution_count": 13,
   "metadata": {},
   "outputs": [
    {
     "name": "stdout",
     "output_type": "stream",
     "text": [
      "   ID       Name   Age  Gender   Salary  Target\n",
      "0   1      Sarah  25.0  Female  50000.0       0\n",
      "1   2     Ophrah  30.0    Male  60000.0       1\n",
      "2   3     Torben  22.0    Male  70000.0       0\n",
      "3   4  Masharahu  35.0    Male  80000.0       1\n",
      "4   5       Kaya   NaN  Female  55000.0       0\n"
     ]
    }
   ],
   "source": [
    "# Display the first few rows of the dataset\n",
    "print(df.head())"
   ]
  },
  {
   "cell_type": "code",
   "execution_count": 14,
   "metadata": {},
   "outputs": [
    {
     "name": "stdout",
     "output_type": "stream",
     "text": [
      "ID        0\n",
      "Name      0\n",
      "Age       1\n",
      "Gender    0\n",
      "Salary    1\n",
      "Target    0\n",
      "dtype: int64\n"
     ]
    }
   ],
   "source": [
    "# Check for missing values in the dataset\n",
    "missing_values = df.isna().sum()\n",
    "print(missing_values)"
   ]
  },
  {
   "cell_type": "code",
   "execution_count": 15,
   "metadata": {},
   "outputs": [
    {
     "name": "stdout",
     "output_type": "stream",
     "text": [
      "   ID       Name   Age  Gender   Salary  Target\n",
      "0   1      Sarah  25.0  Female  50000.0       0\n",
      "1   2     Ophrah  30.0    Male  60000.0       1\n",
      "2   3     Torben  22.0    Male  70000.0       0\n",
      "3   4  Masharahu  35.0    Male  80000.0       1\n"
     ]
    }
   ],
   "source": [
    "# Drop rows with missing values\n",
    "df_cleaned = df.dropna()\n",
    "print(df_cleaned)"
   ]
  },
  {
   "cell_type": "code",
   "execution_count": 16,
   "metadata": {},
   "outputs": [
    {
     "name": "stdout",
     "output_type": "stream",
     "text": [
      "   ID       Name   Age  Gender   Salary  Target\n",
      "0   1      Sarah  25.0  Female  50000.0       0\n",
      "1   2     Ophrah  30.0    Male  60000.0       1\n",
      "2   3     Torben  22.0    Male  70000.0       0\n",
      "3   4  Masharahu  35.0    Male  80000.0       1\n",
      "4   5       Kaya  28.2  Female  55000.0       0\n",
      "5   6    Abandon  29.0    Male      NaN       1\n"
     ]
    }
   ],
   "source": [
    "# Fill missing values in the 'Age' column with the mean of the column\n",
    "df['Age'].fillna(df['Age'].mean(), inplace=True)\n",
    "print(df)"
   ]
  },
  {
   "cell_type": "code",
   "execution_count": null,
   "metadata": {},
   "outputs": [],
   "source": []
  }
 ],
 "metadata": {
  "kernelspec": {
   "display_name": "Python 3",
   "language": "python",
   "name": "python3"
  },
  "language_info": {
   "codemirror_mode": {
    "name": "ipython",
    "version": 3
   },
   "file_extension": ".py",
   "mimetype": "text/x-python",
   "name": "python",
   "nbconvert_exporter": "python",
   "pygments_lexer": "ipython3",
   "version": "3.7.6"
  }
 },
 "nbformat": 4,
 "nbformat_minor": 4
}
